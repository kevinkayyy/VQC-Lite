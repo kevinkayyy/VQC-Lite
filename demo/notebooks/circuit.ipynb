{
 "cells": [
  {
   "cell_type": "code",
   "execution_count": 1,
   "id": "e215b8fd",
   "metadata": {},
   "outputs": [
    {
     "data": {
      "text/html": [
       "<link href='http://fonts.googleapis.com/css?family=Fenix' rel='stylesheet' type='text/css'>\n",
       "<link href='http://fonts.googleapis.com/css?family=Alegreya+Sans:100,300,400,500,700,800,900,100italic,300italic,400italic,500italic,700italic,800italic,900italic' rel='stylesheet' type='text/css'>\n",
       "<link href='http://fonts.googleapis.com/css?family=Source+Code+Pro:300,400' rel='stylesheet' type='text/css'>\n",
       "<link href=\"https://fonts.googleapis.com/css?family=Oswald|Raleway\" rel=\"stylesheet\" type='text/css'>\n",
       "<style>\n",
       ".prompt{\n",
       "    display: none !important;\n",
       "}\n",
       "\n",
       ".rendered_html pre {\n",
       "    border: 1px solid #f0f6f9 !important;\n",
       "}\n",
       "\n",
       ".rendered_html pre, .rendered_html code {\n",
       "    background-color: #d3d8db !important;\n",
       "    padding: 1% !important;\n",
       "    line-height: 200% !important;\n",
       "    border-radius: 10px !important;\n",
       "}\n",
       "\n",
       "div.cell{\n",
       "        width:85% !important;\n",
       "        margin-left:5% !important;\n",
       "        /*margin-right:auto;*/\n",
       "    }\n",
       "    h1, h2, h3, h4, h5 {\n",
       "        font-family: 'Oswald', sans-serif; !important;\n",
       "        font-style: oblique !important;\n",
       "    }\n",
       "    div.text_cell_render{\n",
       "        font-family: 'Raleway', sans-serif; !important;\n",
       "        line-height: 135% !important;\n",
       "        font-size: 120% !important;\n",
       "        width:100%;/*600px;*/\n",
       "        /*margin-left:auto;*/\n",
       "        /*margin-right:auto;*/\n",
       "    }\n",
       "    .CodeMirror{\n",
       "            font-family: \"Source Code Pro\" !important;\n",
       "\t\t\tfont-size: 100% !important;\n",
       "    }\n",
       "    .text_cell_render p{\n",
       "        text-align: justify !important;\n",
       "    }\n",
       "    .text_cell_render h1 {\n",
       "        font-weight: 200 !important;\n",
       "\t\tline-height: 100% !important;\n",
       "        color:#47597A !important;\n",
       "        margin-bottom: 10.em !important;\n",
       "        margin-top: 50.em !important;\n",
       "        padding-bottom: 50.em !important;\n",
       "        padding-top: 50.em !important;\n",
       "        display: block !important;\n",
       "        font-size: 300% !important;\n",
       "        text-align: center !important;\n",
       "        border-bottom: 1px solid #47597A !important;\n",
       "        border-top: 1px solid #47597A !important;\n",
       "    }\n",
       "    .text_cell_render h2 {\n",
       "        font-weight: 200 !important;\n",
       "\tline-height: 100% !important;\n",
       "        color:#47597A !important;\n",
       "        margin-bottom: 0.5em !important;\n",
       "        margin-top: 0.5em !important;\n",
       "        display: block !important;\n",
       "        font-size: 200% !important;\n",
       "        border-bottom: 1px solid #47597A !important;\n",
       "    }\n",
       "    .text_cell_render h3 {\n",
       "        font-weight: 200 !important;\n",
       "\tline-height: 100% !important;\n",
       "        color:#47597A !important;\n",
       "        margin-bottom: 0.5em !important;\n",
       "        margin-top: 0.5em !important;\n",
       "        display: block !important;\n",
       "        font-size: 150% !important;\n",
       "    }\n",
       "    .text_cell_render h4 {\n",
       "        font-style: italic !important;\n",
       "        font-weight: bold !important;\n",
       "\tline-height: 100% !important;\n",
       "        color:#47597A !important;\n",
       "        display: block !important;\n",
       "        font-size: 100% !important;\n",
       "    }\n",
       "    .text_cell_render h5 {\n",
       "        font-weight: 200 !important;\n",
       "\tline-height: 100% !important;\n",
       "        color:#47597A !important;\n",
       "        margin-bottom: 0.5em !important;\n",
       "        margin-top: 0.5em !important;\n",
       "        display: block !important;\n",
       "        font-size: 100% !important;\n",
       "    }\n",
       "    .text_cell_render ul {\n",
       "\tlist-style-type: disc !important;\n",
       "\tline-height: 2;\n",
       "\t/*color:#47597A !important;*/\n",
       "    }\n",
       "    .important{\n",
       "        color: rgb( 240, 20, 20 ) !important;\n",
       "        }\n",
       "    .Abstract {\n",
       "\ttext-align: justify;\n",
       "\tbackground-color: #d6edf9;\n",
       "\tborder-left: 5px solid #47597A;\n",
       "\tpadding: 0.5em;\n",
       "\tmargin: 0  150px 0 150px;\n",
       "    }\n",
       "    .Not {\n",
       "\tbackground-color: #d9f7d7;\n",
       "\tborder-left: 5px solid #4a7047;\n",
       "\tpadding: 0.5em;\n",
       "    }\n",
       "    .Not:before {\n",
       "\tcontent: \"Notes.\";\n",
       "\tcolor:#8B0A50;\n",
       "\tfont-weight: bold;\n",
       "\tfont-style: normal;\n",
       "    }\n",
       "    .Rmk {\n",
       "\tbackground-color: #ffffcc;\n",
       "\tborder-left: 5px solid #a90e05;\n",
       "\tpadding: 0.5em;\n",
       "    }\n",
       "    .Rmk:before {\n",
       "\tcontent: \"Remark.\";\n",
       "\tcolor:#a90e05;\n",
       "\tfont-weight: bold;\n",
       "\tfont-style: normal;\n",
       "    }\n",
       "    .Des {\n",
       "\tbackground-color: #dbf1fc;\n",
       "\tborder-left: 5px solid #385487;\n",
       "\tpadding: 0.5em;\n",
       "    }\n",
       "    .Des:before {\n",
       "\tcontent: \"Description.\";\n",
       "\tcolor:#385487;\n",
       "\tfont-weight: bold;\n",
       "\tfont-style: normal;\n",
       "    }\n",
       "    .Exp {\n",
       "\tbackground-color: #dbf1fc;\n",
       "\tborder-left: 5px solid #385487;\n",
       "\tpadding: 0.5em;\n",
       "    }\n",
       "    .Exp:before {\n",
       "\tcontent: \"Explanation.\";\n",
       "\tcolor:#385487;\n",
       "\tfont-weight: bold;\n",
       "\tfont-style: normal;\n",
       "    }\n",
       "\n",
       "/*    .toc-item-num {\n",
       "#        display: none;\n",
       "#    }\n",
       "*/\n",
       "    .reveal section img{\n",
       "        margin: 0px auto;\n",
       "    }\n",
       "\n",
       "    div.output_area img{\n",
       "        display: block;\n",
       "        margin: 0px auto;\n",
       "    }\n",
       "\n",
       "</style>\n",
       "\n",
       "<script>\n",
       "MathJax.Hub.Config({\n",
       "TeX: {extensions: [\"AMSmath.js\"] },\n",
       "                tex2jax: {\n",
       "                    inlineMath: [ ['$','$'], [\"\\\\(\",\"\\\\)\"] ],\n",
       "                    displayMath: [ ['$$','$$'], [\"\\\\[\",\"\\\\]\"] ]\n",
       "                },\n",
       "                displayAlign: 'center', // Change this to 'center' to center equations.\n",
       "                \"HTML-CSS\": {\n",
       "                    styles: {'.MathJax_Display': {\"margin\": 4}}\n",
       "                }\n",
       "        });\n",
       "\n",
       "\n",
       "\n",
       "</script>"
      ],
      "text/plain": [
       "<IPython.core.display.HTML object>"
      ]
     },
     "execution_count": 1,
     "metadata": {},
     "output_type": "execute_result"
    }
   ],
   "source": [
    "import sys\n",
    "sys.path.append('../../VQC-Lite')\n",
    "from IPython.display import Image\n",
    "from IPython.display import HTML\n",
    "HTML(open('stylesheet.css').read())"
   ]
  },
  {
   "cell_type": "markdown",
   "id": "a0f19238",
   "metadata": {},
   "source": [
    "# An Introduction to VQC\n",
    "Author: Kevin Shen\n",
    "\n",
    "In this notebook, we will introduce the basics of VQC. You will see how a variational circuit is constructed layer by layer. For more details please refer to the documentation."
   ]
  },
  {
   "cell_type": "markdown",
   "id": "0e516a1f",
   "metadata": {},
   "source": [
    "## Circuit Stack\n",
    "\n",
    "The structure of a typical VQC can be divided into 4 levels, which from bottom to top are: gate, block, layer and circuit."
   ]
  },
  {
   "cell_type": "code",
   "execution_count": 2,
   "id": "53c7ce25",
   "metadata": {},
   "outputs": [],
   "source": [
    "import numpy as np\n",
    "from circuit_stack.circuit_mps import MPS\n",
    "from circuit_stack.layer import RCMPSLayer, IRLayer\n",
    "from circuit_stack.block import Block_CNOT, Block_GU1\n",
    "from circuit_stack.gate import CNOT, GU1"
   ]
  },
  {
   "cell_type": "markdown",
   "id": "830abece",
   "metadata": {},
   "source": [
    "### Gate\n",
    "<div class=Des>\n",
    "Gates are at the bottom layer of the stack. Gates can be either parametrized or unparametrized. Parametrized gates take parameters as input, while unparametrized gates are without input. Functions of both kinds output a unitary matrix in jax numpy array form."
   ]
  },
  {
   "cell_type": "code",
   "execution_count": 3,
   "id": "9b628ea8",
   "metadata": {},
   "outputs": [
    {
     "name": "stdout",
     "output_type": "stream",
     "text": [
      "[[1 0 0 0]\n",
      " [0 1 0 0]\n",
      " [0 0 0 1]\n",
      " [0 0 1 0]]\n"
     ]
    }
   ],
   "source": [
    "gate = CNOT()\n",
    "print(gate)"
   ]
  },
  {
   "cell_type": "markdown",
   "id": "d651689d",
   "metadata": {},
   "source": [
    "<Div class=Not> Above is a controlled-X gate (CNOT) gate, which is a native entangling gate for many current superconducting quantum computers."
   ]
  },
  {
   "cell_type": "markdown",
   "id": "a325fc18",
   "metadata": {},
   "source": [
    "### Block\n",
    "<div class=Des>\n",
    "A block is the repeating unit in a layer. A block consists of $\\geq$ 1 parameterized or fixed gate(s).\n",
    "The most important attributes of a block are three lists, called \"gs\", \"il\" and \"npl\".\n",
    "    \n",
    "1. \"gs\" stands for gate sequence,\n",
    "    which is a list of strings (names of the gates). The functions realizing the gates\n",
    "    are defined in the file gate.py. The strings will be mapped to the functions at the circuit level.\n",
    "\n",
    "2. \"il\" stands for index list,\n",
    "    which is a list of lists of integers called 'local indices', which defines the qubits on which\n",
    "    the gates apply.\n",
    "\n",
    "3. \"npl\" stands for number of parameter list,\n",
    "    which is a list storing the number of parameters each gate takes."
   ]
  },
  {
   "cell_type": "code",
   "execution_count": 4,
   "id": "7a2149fb",
   "metadata": {},
   "outputs": [
    {
     "name": "stdout",
     "output_type": "stream",
     "text": [
      "Gate Sequence: ['CNOT', 'GU1', 'GU1']\n",
      "Act on qubits: [[0, 1], [0], [1]]\n",
      "Requiring _ parameters: [0, 3, 3]\n"
     ]
    }
   ],
   "source": [
    "block = Block_CNOT()\n",
    "print('Gate Sequence:', block.gs)\n",
    "print('Act on qubits:', block.il)\n",
    "print('Requiring _ parameters:', block.npl)"
   ]
  },
  {
   "cell_type": "markdown",
   "id": "42d24ca2",
   "metadata": {},
   "source": [
    "<Div class=Not>\n",
    "Above is a block acting on 2 qubits. It consists of a CNOT gate followed by 2 general single-qubit unitaries (GU1) on each qubit. Each GU1 reuqires 3 parameters."
   ]
  },
  {
   "cell_type": "markdown",
   "id": "5e0af319",
   "metadata": {},
   "source": [
    "### Layer\n",
    "<div class=Des>\n",
    "A layer is a component of the circuit, which could repeat itself a few times in the circuit. A layer\n",
    "is an arrangement of repeating blocks that covers all qubits. The most important attributes of a circuit are also \"gs\", \"il\" and \"npl\", which are formed by concatenating the ones\n",
    "of its block components."
   ]
  },
  {
   "cell_type": "code",
   "execution_count": 5,
   "id": "cfbf0054",
   "metadata": {},
   "outputs": [
    {
     "name": "stdout",
     "output_type": "stream",
     "text": [
      "Gate Sequence: ['CNOT', 'GU1', 'GU1', 'CNOT', 'GU1', 'GU1']\n",
      "Act on qubits: [[0, 1], [0], [1], [1, 2], [1], [2]]\n",
      "Requiring _ parameters: [0, 3, 3, 0, 3, 3]\n"
     ]
    }
   ],
   "source": [
    "layer = RCMPSLayer(block, nq=3)\n",
    "print('Gate Sequence:', layer.gs)\n",
    "print('Act on qubits:', layer.il)\n",
    "print('Requiring _ parameters:', layer.npl)"
   ]
  },
  {
   "cell_type": "markdown",
   "id": "f643c28e",
   "metadata": {},
   "source": [
    "<Div class=Not>\n",
    "Above is a layer of CNOT blocks acting on 3 qubits. As there are two pairs of neighboring qubits $(0,1)$ and $(1,2)$, the layer consists of 2 blocks."
   ]
  },
  {
   "cell_type": "markdown",
   "id": "81596ff7",
   "metadata": {},
   "source": [
    "### Circuit\n",
    "<div class=Des>     \n",
    "Circuits are at the top level of the stack. The most important attributes of a circuit are also \"gs\", \"il\" and \"npl\", which are formed by concatenating the ones of its layer components."
   ]
  },
  {
   "cell_type": "code",
   "execution_count": 6,
   "id": "03743c09",
   "metadata": {
    "scrolled": true
   },
   "outputs": [
    {
     "name": "stdout",
     "output_type": "stream",
     "text": [
      "Gate Sequence: ['CNOT', 'GU1', 'GU1', 'CNOT', 'GU1', 'GU1', 'CNOT', 'GU1', 'GU1', 'CNOT', 'GU1', 'GU1']\n",
      "Act on qubits: [[0, 1], [0], [1], [1, 2], [1], [2], [0, 1], [0], [1], [1, 2], [1], [2]]\n",
      "Requiring _ parameters: [0, 3, 3, 0, 3, 3, 0, 3, 3, 0, 3, 3]\n"
     ]
    }
   ],
   "source": [
    "circuit = MPS(layer, nl=2, pmd={'GU1':0})\n",
    "print('Gate Sequence:', circuit.gs)\n",
    "print('Act on qubits:', circuit.il)\n",
    "print('Requiring _ parameters:', circuit.npl)"
   ]
  },
  {
   "cell_type": "markdown",
   "id": "dff06a3d",
   "metadata": {},
   "source": [
    "<Div class=Not>\n",
    "Above is a circuit of 2 CNOT layers. The argument \"pmd\" stands for the parameterization method dictionary, which defines how a gate should be parametrized if there are multiple ways to do so. There are many ways to parametrized GU1 gates,and that's why we need to specify it here."
   ]
  },
  {
   "cell_type": "code",
   "execution_count": 7,
   "id": "d081bcbb",
   "metadata": {},
   "outputs": [
    {
     "name": "stdout",
     "output_type": "stream",
     "text": [
      "Gate Sequence: ['CNOT', 'GU1', 'GU1', 'CNOT', 'GU1', 'GU1', 'CNOT', 'GU1', 'GU1', 'CNOT', 'GU1', 'GU1', 'GU1', 'GU1', 'GU1', 'GU1']\n",
      "Act on qubits: [[0, 1], [0], [1], [1, 2], [1], [2], [0, 1], [0], [1], [1, 2], [1], [2], [0], [1], [2], [3]]\n",
      "Requiring _ parameters: [0, 3, 3, 0, 3, 3, 0, 3, 3, 0, 3, 3, 3, 3, 3, 3]\n"
     ]
    }
   ],
   "source": [
    "new_layer = IRLayer(Block_GU1())\n",
    "circuit += new_layer\n",
    "print('Gate Sequence:', circuit.gs)\n",
    "print('Act on qubits:', circuit.il)\n",
    "print('Requiring _ parameters:', circuit.npl)"
   ]
  },
  {
   "cell_type": "markdown",
   "id": "c37bdf4f",
   "metadata": {},
   "source": [
    "<Div class=Not>\n",
    "Above we added a layer of GU1 gates acting on each qubit. You may see the change in \"gs\", \"il\" and \"npl\"."
   ]
  },
  {
   "cell_type": "code",
   "execution_count": 8,
   "id": "5e7591be",
   "metadata": {},
   "outputs": [
    {
     "name": "stdout",
     "output_type": "stream",
     "text": [
      "36 parameters in total!\n",
      "Output state: [[[[ 9.27685052e-02-0.07779589j  1.77142527e-02-0.01819179j]\n",
      "   [-2.52176821e-01+0.30284327j -4.62240987e-02+0.06851619j]]\n",
      "\n",
      "  [[-4.70696017e-02+0.20689313j -5.45266457e-03+0.04416415j]\n",
      "   [ 1.01417035e-01-0.24627799j  1.59611050e-02-0.0535298j ]]]\n",
      "\n",
      "\n",
      " [[[-7.55824149e-05+0.14136371j  2.96933018e-03+0.02949847j]\n",
      "   [-3.01757812e-01+0.6188493j  -4.98967059e-02+0.13550082j]]\n",
      "\n",
      "  [[-6.07876480e-02+0.1348249j  -9.83689167e-03+0.02941611j]\n",
      "   [ 8.19850862e-02-0.38643813j  8.94675776e-03-0.08236521j]]]]\n"
     ]
    }
   ],
   "source": [
    "nparam = circuit.get_np() \n",
    "print(nparam, \"parameters in total!\")\n",
    "params = np.random.uniform(size=nparam)\n",
    "print('Output state:', circuit.run_with_param_input(params))"
   ]
  },
  {
   "cell_type": "markdown",
   "id": "137770ef",
   "metadata": {},
   "source": [
    "<Div class=Not>\n",
    "Above we found fed the circuit with 36 parameters, executed it and obtained a statevector as output."
   ]
  },
  {
   "cell_type": "markdown",
   "id": "c9e94bf5",
   "metadata": {},
   "source": [
    "## Circuit Stack Pennylane\n",
    "\n",
    "Let's now switch to the Pennylane version of the circuit stack. It consists of 3 levels, which from bottom to top are: gate, block and circuit.\n",
    "\n",
    "Note that because of functions such as \"qml.MPS\" and \"qml.broadcast\", the arrangement of blocks could be\n",
    "easily handled at the circuit level for many common Ansätze. Thus, at the moment the \"layer\" level which exists in the previous circuit stack is omitted here. However, when more complicated Ansätze come in the future, maybe it's better to also introduce the layer here."
   ]
  },
  {
   "cell_type": "code",
   "execution_count": 9,
   "id": "f5aeafbb",
   "metadata": {},
   "outputs": [],
   "source": [
    "from circuit_stack_pennylane.circuit_mps import MPS_CNOT_P\n",
    "from circuit_stack_pennylane.block import Block_GU1_P"
   ]
  },
  {
   "cell_type": "code",
   "execution_count": 10,
   "id": "bd22e964",
   "metadata": {},
   "outputs": [],
   "source": [
    "pm1=2\n",
    "irb = Block_GU1_P()\n",
    "circuit = MPS_CNOT_P(nl=2, nq=4, irb=irb, pm1=pm1)"
   ]
  },
  {
   "cell_type": "markdown",
   "id": "b2f6e722",
   "metadata": {},
   "source": [
    "<div class=Des> Above we construct a VQC with one layer of initial rotations with GU1, followed by 2 layers of CNOT blocks. Note that this is not the same circuit as in the previous section. The circuit is plotted below."
   ]
  },
  {
   "cell_type": "code",
   "execution_count": 11,
   "id": "610f3971",
   "metadata": {},
   "outputs": [
    {
     "name": "stderr",
     "output_type": "stream",
     "text": [
      "/Users/kevinshen/Documents/Github/VQC-Lite/venv/lib/python3.8/site-packages/pennylane/ops/qubit/matrix_ops.py:92: UserWarning: Operator [[nan+nanj nan+nanj]\n",
      " [nan+nanj nan+nanj]]\n",
      " may not be unitary.Verify unitarity of operation, or use a datatype with increased precision.\n",
      "  warnings.warn(\n"
     ]
    },
    {
     "data": {
      "image/png": "[encoded data removed]",
      "text/plain": [
       "<Figure size 600x300 with 1 Axes>"
      ]
     },
     "metadata": {},
     "output_type": "display_data"
    }
   ],
   "source": [
    "circuit.plot(fig_size=(6,3))"
   ]
  }
 ],
 "metadata": {
  "kernelspec": {
   "display_name": "Python 3 (ipykernel)",
   "language": "python",
   "name": "python3"
  },
  "language_info": {
   "codemirror_mode": {
    "name": "ipython",
    "version": 3
   },
   "file_extension": ".py",
   "mimetype": "text/x-python",
   "name": "python",
   "nbconvert_exporter": "python",
   "pygments_lexer": "ipython3",
   "version": "3.8.9"
  }
 },
 "nbformat": 4,
 "nbformat_minor": 5
}
